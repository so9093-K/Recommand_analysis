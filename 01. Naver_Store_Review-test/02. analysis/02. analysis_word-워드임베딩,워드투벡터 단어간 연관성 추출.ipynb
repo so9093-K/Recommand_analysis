{
 "cells": [
  {
   "cell_type": "markdown",
   "id": "fec61e9d",
   "metadata": {},
   "source": [
    "##### 워드임베딩 - 단어를 벡터로 표현하는 방법, 단어를 밀집 표현으로 변환\n",
    "\n",
    "##### 워드투벡터 - 단어 간 유사성을 고려하기 위해 단어의 의미를 벡터화 \n",
    "##### 주변 단어를 통해 중심 단어를 예측하는 방법\n",
    "##### 중심 단어를 통해 주변 단어를 예측하는 방법 "
   ]
  },
  {
   "cell_type": "code",
   "execution_count": 13,
   "id": "44320ead",
   "metadata": {},
   "outputs": [
    {
     "data": {
      "text/html": [
       "<div>\n",
       "<style scoped>\n",
       "    .dataframe tbody tr th:only-of-type {\n",
       "        vertical-align: middle;\n",
       "    }\n",
       "\n",
       "    .dataframe tbody tr th {\n",
       "        vertical-align: top;\n",
       "    }\n",
       "\n",
       "    .dataframe thead th {\n",
       "        text-align: right;\n",
       "    }\n",
       "</style>\n",
       "<table border=\"1\" class=\"dataframe\">\n",
       "  <thead>\n",
       "    <tr style=\"text-align: right;\">\n",
       "      <th></th>\n",
       "      <th>닉네임</th>\n",
       "      <th>제품명</th>\n",
       "      <th>가격</th>\n",
       "      <th>평점</th>\n",
       "      <th>리뷰</th>\n",
       "      <th>url</th>\n",
       "    </tr>\n",
       "  </thead>\n",
       "  <tbody>\n",
       "    <tr>\n",
       "      <th>0</th>\n",
       "      <td>nbnb****</td>\n",
       "      <td>말하는 따라쟁이 앵무새 인형 말따라하는 장난감</td>\n",
       "      <td>6,500</td>\n",
       "      <td>4</td>\n",
       "      <td>가성비대비 짱이네요\\n아이들이 정말  좋아해요\\n저는 영어수업때 교구로 쓸려고 샀는...</td>\n",
       "      <td>https://smartstore.naver.com/soppingacademicth...</td>\n",
       "    </tr>\n",
       "    <tr>\n",
       "      <th>1</th>\n",
       "      <td>ojh2****</td>\n",
       "      <td>말하는 따라쟁이 앵무새 인형 말따라하는 장난감</td>\n",
       "      <td>6,500</td>\n",
       "      <td>5</td>\n",
       "      <td>돌아기가 무지 좋아해요^^ 실실 웃으면서 쓰담쓰담 뽀뽀도 해주더라구요! 근데 솜이 ...</td>\n",
       "      <td>https://smartstore.naver.com/soppingacademicth...</td>\n",
       "    </tr>\n",
       "    <tr>\n",
       "      <th>2</th>\n",
       "      <td>yons****</td>\n",
       "      <td>말하는 따라쟁이 앵무새 인형 말따라하는 장난감</td>\n",
       "      <td>6,500</td>\n",
       "      <td>3</td>\n",
       "      <td>어제는 말하고나서 3초이상 쉬었다가 말을 해야지만. 따라했습니다. 오늘은 좀 더 말...</td>\n",
       "      <td>https://smartstore.naver.com/soppingacademicth...</td>\n",
       "    </tr>\n",
       "    <tr>\n",
       "      <th>3</th>\n",
       "      <td>ohmy****</td>\n",
       "      <td>말하는 따라쟁이 앵무새 인형 말따라하는 장난감</td>\n",
       "      <td>6,500</td>\n",
       "      <td>4</td>\n",
       "      <td>귀엽네요. 아기가 어려서 아주 조금 무서워하지만 관심은 계속 보이고 있어요.\\n지금...</td>\n",
       "      <td>https://smartstore.naver.com/soppingacademicth...</td>\n",
       "    </tr>\n",
       "    <tr>\n",
       "      <th>4</th>\n",
       "      <td>ehsd****</td>\n",
       "      <td>말하는 따라쟁이 앵무새 인형 말따라하는 장난감</td>\n",
       "      <td>6,500</td>\n",
       "      <td>5</td>\n",
       "      <td>재밋어요~\\n좀 소리가.큰데 스피커를 좀 작게 하는방법은 없을까요?\\n아들이재밋어해요~~</td>\n",
       "      <td>https://smartstore.naver.com/soppingacademicth...</td>\n",
       "    </tr>\n",
       "  </tbody>\n",
       "</table>\n",
       "</div>"
      ],
      "text/plain": [
       "        닉네임                        제품명     가격  평점  \\\n",
       "0  nbnb****  말하는 따라쟁이 앵무새 인형 말따라하는 장난감  6,500   4   \n",
       "1  ojh2****  말하는 따라쟁이 앵무새 인형 말따라하는 장난감  6,500   5   \n",
       "2  yons****  말하는 따라쟁이 앵무새 인형 말따라하는 장난감  6,500   3   \n",
       "3  ohmy****  말하는 따라쟁이 앵무새 인형 말따라하는 장난감  6,500   4   \n",
       "4  ehsd****  말하는 따라쟁이 앵무새 인형 말따라하는 장난감  6,500   5   \n",
       "\n",
       "                                                  리뷰  \\\n",
       "0  가성비대비 짱이네요\\n아이들이 정말  좋아해요\\n저는 영어수업때 교구로 쓸려고 샀는...   \n",
       "1  돌아기가 무지 좋아해요^^ 실실 웃으면서 쓰담쓰담 뽀뽀도 해주더라구요! 근데 솜이 ...   \n",
       "2  어제는 말하고나서 3초이상 쉬었다가 말을 해야지만. 따라했습니다. 오늘은 좀 더 말...   \n",
       "3  귀엽네요. 아기가 어려서 아주 조금 무서워하지만 관심은 계속 보이고 있어요.\\n지금...   \n",
       "4  재밋어요~\\n좀 소리가.큰데 스피커를 좀 작게 하는방법은 없을까요?\\n아들이재밋어해요~~   \n",
       "\n",
       "                                                 url  \n",
       "0  https://smartstore.naver.com/soppingacademicth...  \n",
       "1  https://smartstore.naver.com/soppingacademicth...  \n",
       "2  https://smartstore.naver.com/soppingacademicth...  \n",
       "3  https://smartstore.naver.com/soppingacademicth...  \n",
       "4  https://smartstore.naver.com/soppingacademicth...  "
      ]
     },
     "execution_count": 13,
     "metadata": {},
     "output_type": "execute_result"
    }
   ],
   "source": [
    "import pandas as pd\n",
    "import numpy as np\n",
    "\n",
    "df = pd.read_csv(\"../data/ALL_DATA_1.csv\",encoding='cp949')\n",
    "# 중복행 제거\n",
    "df = df.drop_duplicates(['리뷰'], keep='first')\n",
    "df.head()"
   ]
  },
  {
   "cell_type": "code",
   "execution_count": 14,
   "id": "e9f8101d",
   "metadata": {},
   "outputs": [
    {
     "name": "stderr",
     "output_type": "stream",
     "text": [
      "<ipython-input-14-9772fd1193e0>:1: FutureWarning: The default value of regex will change from True to False in a future version.\n",
      "  df['review_train'] = df['리뷰'].str.replace(\"[^ㄱ-ㅎㅏ-ㅣ가-힣 ]\",\"\")\n"
     ]
    }
   ],
   "source": [
    "df['review_train'] = df['리뷰'].str.replace(\"[^ㄱ-ㅎㅏ-ㅣ가-힣 ]\",\"\")"
   ]
  },
  {
   "cell_type": "code",
   "execution_count": 15,
   "id": "fcfee8c1",
   "metadata": {},
   "outputs": [
    {
     "data": {
      "application/vnd.jupyter.widget-view+json": {
       "model_id": "d83e997eac7b4b0bb69f0acc25194cb3",
       "version_major": 2,
       "version_minor": 0
      },
      "text/plain": [
       "  0%|          | 0/25991 [00:00<?, ?it/s]"
      ]
     },
     "metadata": {},
     "output_type": "display_data"
    }
   ],
   "source": [
    "from tqdm.notebook import tqdm\n",
    "\n",
    "from konlpy.tag import Okt\n",
    "\n",
    "stop_words = ['가','요','변','을','수','에','문','욧','해주시','겨'\n",
    "        '제','를','이','도','은','다','게','요','한','일','할','인데','거','좀',\n",
    "        '는데','뭐','까','있는','잘','습니다','이에요','다면','했','주려','지',\n",
    "        '있','못','후','중','줄','있다','있습니다','있는','하는','것이다','밝혔다',\n",
    "        '위해','대해','했다','재배포','21일','따르면','무단전재','관계자는','기자',\n",
    "        '것으로','말했다','합니다','약간','있어요','좀','가','이','도','들','에','고','~','요','로','쁘',\n",
    "        '입니닼','잘','욤','욧','ㅡ','젛','플','석조','에요','예요','데',\n",
    "        '의','에여','지게','굳다','성','이예','대','이에여','이다','내','애','서',\n",
    "        '전','걸','에게','되어다','작','때문','와','알다','근데','없이','에는',\n",
    "        '기','이라','엔','이랑','개','같이','먹다','이나','건','하지만','듯','지다',\n",
    "         '물','이라는','임','여기','면','나다','랑','이라고']\n",
    "okt = Okt()\n",
    "tokenized_data = []\n",
    "for sentence in tqdm(df['review_train']):\n",
    "    temp_X = okt.morphs(sentence, stem=True) # 토큰화\n",
    "    temp_X = [word for word in temp_X if not word in stop_words] \n",
    "    tokenized_data.append(temp_X)"
   ]
  },
  {
   "cell_type": "code",
   "execution_count": 16,
   "id": "bc00d2ea",
   "metadata": {},
   "outputs": [],
   "source": [
    "from matplotlib import font_manager, rc\n",
    "font_name = font_manager.FontProperties(fname=\"c:/Windows/Fonts/malgun.ttf\").get_name()\n",
    "rc('font', family=font_name)\n",
    "from wordcloud import WordCloud \n",
    "import matplotlib.pyplot as plt \n",
    "%matplotlib inline "
   ]
  },
  {
   "cell_type": "code",
   "execution_count": 17,
   "id": "3e775076",
   "metadata": {},
   "outputs": [
    {
     "name": "stdout",
     "output_type": "stream",
     "text": [
      "리뷰의 최대 길이 : 259\n",
      "리뷰의 평균 길이 : 9.451310068869994\n"
     ]
    },
    {
     "data": {
      "image/png": "[encoded data removed]",
      "text/plain": [
       "<Figure size 432x288 with 1 Axes>"
      ]
     },
     "metadata": {
      "needs_background": "light"
     },
     "output_type": "display_data"
    }
   ],
   "source": [
    "print('리뷰의 최대 길이 :',max(len(l) for l in tokenized_data))\n",
    "print('리뷰의 평균 길이 :',sum(map(len, tokenized_data))/len(tokenized_data))\n",
    "plt.hist([len(s) for s in tokenized_data], bins=50)\n",
    "plt.xlabel('length of samples')\n",
    "plt.ylabel('number of samples')\n",
    "plt.show()"
   ]
  },
  {
   "cell_type": "code",
   "execution_count": 18,
   "id": "07ff9d56",
   "metadata": {},
   "outputs": [],
   "source": [
    "from gensim.models import Word2Vec\n",
    "model = Word2Vec(sentences = tokenized_data, vector_size = 100, window = 5, min_count = 5, workers = 4, sg = 0)"
   ]
  },
  {
   "cell_type": "code",
   "execution_count": 19,
   "id": "7d564f75",
   "metadata": {},
   "outputs": [],
   "source": [
    "vocabs = list(model.wv.index_to_key)\n",
    "\n",
    "word_vocab_list = [model.wv[v] for v in vocabs]"
   ]
  },
  {
   "cell_type": "code",
   "execution_count": 20,
   "id": "8b07f49b",
   "metadata": {},
   "outputs": [
    {
     "name": "stdout",
     "output_type": "stream",
     "text": [
      "[('만족하다', 0.9581924676895142), ('매우', 0.9360161423683167), ('만족스럽다', 0.9302577376365662), ('대체로', 0.9144056439399719), ('굿', 0.9036768078804016), ('만족도', 0.8942746520042419), ('모두', 0.8860676288604736), ('짱짱', 0.8846536874771118), ('품질', 0.8831947445869446), ('훌륭하다', 0.8785943984985352)]\n"
     ]
    }
   ],
   "source": [
    "print(model.wv.most_similar(\"만족\"))"
   ]
  },
  {
   "cell_type": "code",
   "execution_count": 21,
   "id": "8cf9aaa5",
   "metadata": {},
   "outputs": [
    {
     "data": {
      "image/png": "[encoded data removed]",
      "text/plain": [
       "<Figure size 432x288 with 1 Axes>"
      ]
     },
     "metadata": {
      "needs_background": "light"
     },
     "output_type": "display_data"
    }
   ],
   "source": [
    "from sklearn.decomposition import PCA\n",
    "pca = PCA(n_components=2)\n",
    "xys = pca.fit_transform(word_vocab_list)\n",
    "xs = xys[:,0]\n",
    "ys = xys[:,1]\n",
    "#plt.figure(figsize=(10 ,10))\n",
    "plt.scatter(xs, ys, marker = 'o')\n",
    "plt.xlim(0,1), plt.ylim(0,0.01)\n",
    "for i, v in enumerate(vocabs):\n",
    "    plt.annotate(v, xy=(xs[i], ys[i]))"
   ]
  }
 ],
 "metadata": {
  "kernelspec": {
   "display_name": "Python 3",
   "language": "python",
   "name": "python3"
  },
  "language_info": {
   "codemirror_mode": {
    "name": "ipython",
    "version": 3
   },
   "file_extension": ".py",
   "mimetype": "text/x-python",
   "name": "python",
   "nbconvert_exporter": "python",
   "pygments_lexer": "ipython3",
   "version": "3.8.10"
  }
 },
 "nbformat": 4,
 "nbformat_minor": 5
}
